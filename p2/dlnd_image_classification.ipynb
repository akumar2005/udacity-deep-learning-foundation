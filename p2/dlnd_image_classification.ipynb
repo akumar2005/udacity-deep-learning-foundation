{
 "cells": [
  {
   "cell_type": "markdown",
   "metadata": {
    "collapsed": true,
    "deletable": true,
    "editable": true
   },
   "source": [
    "# Image Classification\n",
    "In this project, you'll classify images from the [CIFAR-10 dataset](https://www.cs.toronto.edu/~kriz/cifar.html).  The dataset consists of airplanes, dogs, cats, and other objects. You'll preprocess the images, then train a convolutional neural network on all the samples. The images need to be normalized and the labels need to be one-hot encoded.  You'll get to apply what you learned and build a convolutional, max pooling, dropout, and fully connected layers.  At the end, you'll get to see your neural network's predictions on the sample images.\n",
    "## Get the Data\n",
    "Run the following cell to download the [CIFAR-10 dataset for python](https://www.cs.toronto.edu/~kriz/cifar-10-python.tar.gz)."
   ]
  },
  {
   "cell_type": "code",
   "execution_count": 1,
   "metadata": {
    "collapsed": false,
    "deletable": true,
    "editable": true
   },
   "outputs": [
    {
     "name": "stdout",
     "output_type": "stream",
     "text": [
      "All files found!\n"
     ]
    }
   ],
   "source": [
    "\"\"\"\n",
    "DON'T MODIFY ANYTHING IN THIS CELL THAT IS BELOW THIS LINE\n",
    "\"\"\"\n",
    "from urllib.request import urlretrieve\n",
    "from os.path import isfile, isdir\n",
    "from tqdm import tqdm\n",
    "import problem_unittests as tests\n",
    "import tarfile\n",
    "\n",
    "cifar10_dataset_folder_path = 'cifar-10-batches-py'\n",
    "\n",
    "# Use Floyd's cifar-10 dataset if present\n",
    "floyd_cifar10_location = '/input/cifar-10/python.tar.gz'\n",
    "if isfile(floyd_cifar10_location):\n",
    "    tar_gz_path = floyd_cifar10_location\n",
    "else:\n",
    "    tar_gz_path = 'cifar-10-python.tar.gz'\n",
    "\n",
    "class DLProgress(tqdm):\n",
    "    last_block = 0\n",
    "\n",
    "    def hook(self, block_num=1, block_size=1, total_size=None):\n",
    "        self.total = total_size\n",
    "        self.update((block_num - self.last_block) * block_size)\n",
    "        self.last_block = block_num\n",
    "\n",
    "if not isfile(tar_gz_path):\n",
    "    with DLProgress(unit='B', unit_scale=True, miniters=1, desc='CIFAR-10 Dataset') as pbar:\n",
    "        urlretrieve(\n",
    "            'https://www.cs.toronto.edu/~kriz/cifar-10-python.tar.gz',\n",
    "            tar_gz_path,\n",
    "            pbar.hook)\n",
    "\n",
    "if not isdir(cifar10_dataset_folder_path):\n",
    "    with tarfile.open(tar_gz_path) as tar:\n",
    "        tar.extractall()\n",
    "        tar.close()\n",
    "\n",
    "\n",
    "tests.test_folder_path(cifar10_dataset_folder_path)"
   ]
  },
  {
   "cell_type": "markdown",
   "metadata": {
    "deletable": true,
    "editable": true
   },
   "source": [
    "## Explore the Data\n",
    "The dataset is broken into batches to prevent your machine from running out of memory.  The CIFAR-10 dataset consists of 5 batches, named `data_batch_1`, `data_batch_2`, etc.. Each batch contains the labels and images that are one of the following:\n",
    "* airplane\n",
    "* automobile\n",
    "* bird\n",
    "* cat\n",
    "* deer\n",
    "* dog\n",
    "* frog\n",
    "* horse\n",
    "* ship\n",
    "* truck\n",
    "\n",
    "Understanding a dataset is part of making predictions on the data.  Play around with the code cell below by changing the `batch_id` and `sample_id`. The `batch_id` is the id for a batch (1-5). The `sample_id` is the id for a image and label pair in the batch.\n",
    "\n",
    "Ask yourself \"What are all possible labels?\", \"What is the range of values for the image data?\", \"Are the labels in order or random?\".  Answers to questions like these will help you preprocess the data and end up with better predictions."
   ]
  },
  {
   "cell_type": "code",
   "execution_count": 2,
   "metadata": {
    "collapsed": false,
    "deletable": true,
    "editable": true
   },
   "outputs": [
    {
     "name": "stdout",
     "output_type": "stream",
     "text": [
      "\n",
      "Stats of batch 1:\n",
      "Samples: 10000\n",
      "Label Counts: {0: 1005, 1: 974, 2: 1032, 3: 1016, 4: 999, 5: 937, 6: 1030, 7: 1001, 8: 1025, 9: 981}\n",
      "First 20 Labels: [6, 9, 9, 4, 1, 1, 2, 7, 8, 3, 4, 7, 7, 2, 9, 9, 9, 3, 2, 6]\n",
      "\n",
      "Example of Image 5:\n",
      "Image - Min Value: 0 Max Value: 252\n",
      "Image - Shape: (32, 32, 3)\n",
      "Label - Label Id: 1 Name: automobile\n"
     ]
    },
    {
     "data": {
      "image/png": "[encoded data removed]",
      "text/plain": [
       "<matplotlib.figure.Figure at 0x7f11d16ae128>"
      ]
     },
     "metadata": {
      "image/png": {
       "height": 250,
       "width": 253
      }
     },
     "output_type": "display_data"
    }
   ],
   "source": [
    "%matplotlib inline\n",
    "%config InlineBackend.figure_format = 'retina'\n",
    "\n",
    "import helper\n",
    "import numpy as np\n",
    "\n",
    "# Explore the dataset\n",
    "batch_id = 1\n",
    "sample_id = 5\n",
    "helper.display_stats(cifar10_dataset_folder_path, batch_id, sample_id)"
   ]
  },
  {
   "cell_type": "markdown",
   "metadata": {
    "deletable": true,
    "editable": true
   },
   "source": [
    "## Implement Preprocess Functions\n",
    "### Normalize\n",
    "In the cell below, implement the `normalize` function to take in image data, `x`, and return it as a normalized Numpy array. The values should be in the range of 0 to 1, inclusive.  The return object should be the same shape as `x`."
   ]
  },
  {
   "cell_type": "code",
   "execution_count": 3,
   "metadata": {
    "collapsed": false,
    "deletable": true,
    "editable": true
   },
   "outputs": [
    {
     "name": "stdout",
     "output_type": "stream",
     "text": [
      "Tests Passed\n"
     ]
    }
   ],
   "source": [
    "def normalize(x):\n",
    "    \"\"\"\n",
    "    Normalize a list of sample image data in the range of 0 to 1\n",
    "    : x: List of image data.  The image shape is (32, 32, 3)\n",
    "    : return: Numpy array of normalize data\n",
    "    \"\"\"\n",
    "    return (x - np.min(x)) / np.ptp(x)\n",
    "\n",
    "\n",
    "\"\"\"\n",
    "DON'T MODIFY ANYTHING IN THIS CELL THAT IS BELOW THIS LINE\n",
    "\"\"\"\n",
    "tests.test_normalize(normalize)"
   ]
  },
  {
   "cell_type": "markdown",
   "metadata": {
    "deletable": true,
    "editable": true
   },
   "source": [
    "### One-hot encode\n",
    "Just like the previous code cell, you'll be implementing a function for preprocessing.  This time, you'll implement the `one_hot_encode` function. The input, `x`, are a list of labels.  Implement the function to return the list of labels as One-Hot encoded Numpy array.  The possible values for labels are 0 to 9. The one-hot encoding function should return the same encoding for each value between each call to `one_hot_encode`.  Make sure to save the map of encodings outside the function.\n",
    "\n",
    "Hint: Don't reinvent the wheel."
   ]
  },
  {
   "cell_type": "code",
   "execution_count": 4,
   "metadata": {
    "collapsed": false,
    "deletable": true,
    "editable": true
   },
   "outputs": [
    {
     "name": "stdout",
     "output_type": "stream",
     "text": [
      "Tests Passed\n"
     ]
    }
   ],
   "source": [
    "from sklearn.preprocessing import OneHotEncoder\n",
    "\n",
    "def one_hot_encode(x):\n",
    "    \"\"\"\n",
    "    One hot encode a list of sample labels. Return a one-hot encoded vector for each label.\n",
    "    : x: List of sample Labels\n",
    "    : return: Numpy array of one-hot encoded labels\n",
    "    \"\"\"\n",
    "    # TODO: Implement Function\n",
    "    labels = range(0, 10)\n",
    "    encoder = np.eye(len(labels))\n",
    "    return np.array([encoder[labels.index(label)] for label in x])\n",
    "\n",
    "\"\"\"\n",
    "DON'T MODIFY ANYTHING IN THIS CELL THAT IS BELOW THIS LINE\n",
    "\"\"\"\n",
    "tests.test_one_hot_encode(one_hot_encode)"
   ]
  },
  {
   "cell_type": "markdown",
   "metadata": {
    "deletable": true,
    "editable": true
   },
   "source": [
    "### Randomize Data\n",
    "As you saw from exploring the data above, the order of the samples are randomized.  It doesn't hurt to randomize it again, but you don't need to for this dataset."
   ]
  },
  {
   "cell_type": "markdown",
   "metadata": {
    "deletable": true,
    "editable": true
   },
   "source": [
    "## Preprocess all the data and save it\n",
    "Running the code cell below will preprocess all the CIFAR-10 data and save it to file. The code below also uses 10% of the training data for validation."
   ]
  },
  {
   "cell_type": "code",
   "execution_count": 5,
   "metadata": {
    "collapsed": false,
    "deletable": true,
    "editable": true
   },
   "outputs": [],
   "source": [
    "\"\"\"\n",
    "DON'T MODIFY ANYTHING IN THIS CELL\n",
    "\"\"\"\n",
    "# Preprocess Training, Validation, and Testing Data\n",
    "helper.preprocess_and_save_data(cifar10_dataset_folder_path, normalize, one_hot_encode)"
   ]
  },
  {
   "cell_type": "markdown",
   "metadata": {
    "deletable": true,
    "editable": true
   },
   "source": [
    "# Check Point\n",
    "This is your first checkpoint.  If you ever decide to come back to this notebook or have to restart the notebook, you can start from here.  The preprocessed data has been saved to disk."
   ]
  },
  {
   "cell_type": "code",
   "execution_count": 6,
   "metadata": {
    "collapsed": true,
    "deletable": true,
    "editable": true
   },
   "outputs": [],
   "source": [
    "\"\"\"\n",
    "DON'T MODIFY ANYTHING IN THIS CELL\n",
    "\"\"\"\n",
    "import pickle\n",
    "import problem_unittests as tests\n",
    "import helper\n",
    "\n",
    "# Load the Preprocessed Validation data\n",
    "valid_features, valid_labels = pickle.load(open('preprocess_validation.p', mode='rb'))"
   ]
  },
  {
   "cell_type": "markdown",
   "metadata": {
    "deletable": true,
    "editable": true
   },
   "source": [
    "## Build the network\n",
    "For the neural network, you'll build each layer into a function.  Most of the code you've seen has been outside of functions. To test your code more thoroughly, we require that you put each layer in a function.  This allows us to give you better feedback and test for simple mistakes using our unittests before you submit your project.\n",
    "\n",
    ">**Note:** If you're finding it hard to dedicate enough time for this course each week, we've provided a small shortcut to this part of the project. In the next couple of problems, you'll have the option to use classes from the [TensorFlow Layers](https://www.tensorflow.org/api_docs/python/tf/layers) or [TensorFlow Layers (contrib)](https://www.tensorflow.org/api_guides/python/contrib.layers) packages to build each layer, except the layers you build in the \"Convolutional and Max Pooling Layer\" section.  TF Layers is similar to Keras's and TFLearn's abstraction to layers, so it's easy to pickup.\n",
    "\n",
    ">However, if you would like to get the most out of this course, try to solve all the problems _without_ using anything from the TF Layers packages. You **can** still use classes from other packages that happen to have the same name as ones you find in TF Layers! For example, instead of using the TF Layers version of the `conv2d` class, [tf.layers.conv2d](https://www.tensorflow.org/api_docs/python/tf/layers/conv2d), you would want to use the TF Neural Network version of `conv2d`, [tf.nn.conv2d](https://www.tensorflow.org/api_docs/python/tf/nn/conv2d). \n",
    "\n",
    "Let's begin!\n",
    "\n",
    "### Input\n",
    "The neural network needs to read the image data, one-hot encoded labels, and dropout keep probability. Implement the following functions\n",
    "* Implement `neural_net_image_input`\n",
    " * Return a [TF Placeholder](https://www.tensorflow.org/api_docs/python/tf/placeholder)\n",
    " * Set the shape using `image_shape` with batch size set to `None`.\n",
    " * Name the TensorFlow placeholder \"x\" using the TensorFlow `name` parameter in the [TF Placeholder](https://www.tensorflow.org/api_docs/python/tf/placeholder).\n",
    "* Implement `neural_net_label_input`\n",
    " * Return a [TF Placeholder](https://www.tensorflow.org/api_docs/python/tf/placeholder)\n",
    " * Set the shape using `n_classes` with batch size set to `None`.\n",
    " * Name the TensorFlow placeholder \"y\" using the TensorFlow `name` parameter in the [TF Placeholder](https://www.tensorflow.org/api_docs/python/tf/placeholder).\n",
    "* Implement `neural_net_keep_prob_input`\n",
    " * Return a [TF Placeholder](https://www.tensorflow.org/api_docs/python/tf/placeholder) for dropout keep probability.\n",
    " * Name the TensorFlow placeholder \"keep_prob\" using the TensorFlow `name` parameter in the [TF Placeholder](https://www.tensorflow.org/api_docs/python/tf/placeholder).\n",
    "\n",
    "These names will be used at the end of the project to load your saved model.\n",
    "\n",
    "Note: `None` for shapes in TensorFlow allow for a dynamic size."
   ]
  },
  {
   "cell_type": "code",
   "execution_count": 7,
   "metadata": {
    "collapsed": false,
    "deletable": true,
    "editable": true
   },
   "outputs": [
    {
     "name": "stdout",
     "output_type": "stream",
     "text": [
      "Image Input Tests Passed.\n",
      "Label Input Tests Passed.\n",
      "Keep Prob Tests Passed.\n"
     ]
    }
   ],
   "source": [
    "import tensorflow as tf\n",
    "\n",
    "DEFAULT_DTYPE=tf.float32\n",
    "\n",
    "\n",
    "def neural_net_image_input(image_shape):\n",
    "    \"\"\"\n",
    "    Return a Tensor for a batch of image input\n",
    "    : image_shape: Shape of the images\n",
    "    : return: Tensor for image input.\n",
    "    \"\"\"\n",
    "    # TODO: Implement Function\n",
    "    return tf.placeholder(\n",
    "        name='x',\n",
    "        shape=(None,) + tuple(image_shape),\n",
    "        dtype=DEFAULT_DTYPE\n",
    "    )\n",
    "\n",
    "\n",
    "def neural_net_label_input(n_classes):\n",
    "    \"\"\"\n",
    "    Return a Tensor for a batch of label input\n",
    "    : n_classes: Number of classes\n",
    "    : return: Tensor for label input.\n",
    "    \"\"\"\n",
    "    # TODO: Implement Function\n",
    "    return tf.placeholder(\n",
    "        name='y',\n",
    "        shape=(None, n_classes),\n",
    "        dtype=DEFAULT_DTYPE\n",
    "    )\n",
    "\n",
    "\n",
    "def neural_net_keep_prob_input():\n",
    "    \"\"\"\n",
    "    Return a Tensor for keep probability\n",
    "    : return: Tensor for keep probability.\n",
    "    \"\"\"\n",
    "    # TODO: Implement Function\n",
    "    return tf.placeholder(\n",
    "        name='keep_prob',\n",
    "        dtype=DEFAULT_DTYPE\n",
    "    )\n",
    "\n",
    "\n",
    "\"\"\"\n",
    "DON'T MODIFY ANYTHING IN THIS CELL THAT IS BELOW THIS LINE\n",
    "\"\"\"\n",
    "tf.reset_default_graph()\n",
    "tests.test_nn_image_inputs(neural_net_image_input)\n",
    "tests.test_nn_label_inputs(neural_net_label_input)\n",
    "tests.test_nn_keep_prob_inputs(neural_net_keep_prob_input)"
   ]
  },
  {
   "cell_type": "markdown",
   "metadata": {
    "deletable": true,
    "editable": true
   },
   "source": [
    "### Convolution and Max Pooling Layer\n",
    "Convolution layers have a lot of success with images. For this code cell, you should implement the function `conv2d_maxpool` to apply convolution then max pooling:\n",
    "* Create the weight and bias using `conv_ksize`, `conv_num_outputs` and the shape of `x_tensor`.\n",
    "* Apply a convolution to `x_tensor` using weight and `conv_strides`.\n",
    " * We recommend you use same padding, but you're welcome to use any padding.\n",
    "* Add bias\n",
    "* Add a nonlinear activation to the convolution.\n",
    "* Apply Max Pooling using `pool_ksize` and `pool_strides`.\n",
    " * We recommend you use same padding, but you're welcome to use any padding.\n",
    "\n",
    "**Note:** You **can't** use [TensorFlow Layers](https://www.tensorflow.org/api_docs/python/tf/layers) or [TensorFlow Layers (contrib)](https://www.tensorflow.org/api_guides/python/contrib.layers) for **this** layer, but you can still use TensorFlow's [Neural Network](https://www.tensorflow.org/api_docs/python/tf/nn) package. You may still use the shortcut option for all the **other** layers."
   ]
  },
  {
   "cell_type": "code",
   "execution_count": 8,
   "metadata": {
    "collapsed": false,
    "deletable": true,
    "editable": true
   },
   "outputs": [
    {
     "name": "stdout",
     "output_type": "stream",
     "text": [
      "Tests Passed\n"
     ]
    }
   ],
   "source": [
    "def conv2d_maxpool(x_tensor, conv_num_outputs, conv_ksize, conv_strides, pool_ksize, pool_strides):\n",
    "    \"\"\"\n",
    "    Apply convolution then max pooling to x_tensor\n",
    "    :param x_tensor: TensorFlow Tensor\n",
    "    :param conv_num_outputs: Number of outputs for the convolutional layer\n",
    "    :param conv_ksize: kernal size 2-D Tuple for the convolutional layer\n",
    "    :param conv_strides: Stride 2-D Tuple for convolution\n",
    "    :param pool_ksize: kernal size 2-D Tuple for pool\n",
    "    :param pool_strides: Stride 2-D Tuple for pool\n",
    "    : return: A tensor that represents convolution and max pooling of x_tensor\n",
    "    \"\"\"\n",
    "    # TODO: Implement Function\n",
    "    batch_size, xdim, ydim, channels = x_tensor.get_shape().as_list()\n",
    "    \n",
    "    # Create the weights and bias using conv_ksize, conv_num_outputs and the shape of x_tensor\n",
    "    weights = tf.Variable(tf.truncated_normal(\n",
    "        conv_ksize + (channels, conv_num_outputs),\n",
    "        mean=0.0, stddev=0.1))\n",
    "    bias = tf.Variable(tf.zeros((conv_num_outputs,)), name='conv2d_bias')\n",
    "    \n",
    "    # Apply a convolution to the x_tensor using weight and conv_strides\n",
    "    strides = (1,) + conv_strides + (1,) # data_format == 'NHWC'; order == [batch, height, width, channels]\n",
    "    assert len(strides) == 4\n",
    "    \n",
    "    # NOTE: https://www.tensorflow.org/api_docs/python/tf/nn/conv2d\n",
    "    x = tf.nn.conv2d(\n",
    "        x_tensor, weights,\n",
    "        strides=strides,\n",
    "        padding='SAME'\n",
    "    )\n",
    "    \n",
    "    # Add bias\n",
    "    x = tf.nn.bias_add(x, bias)\n",
    "    \n",
    "    # Add a non-linear activation to the convolution\n",
    "    x = tf.nn.relu(x)\n",
    "    \n",
    "    # Apply max pooling using pool_ksize and pool_strides\n",
    "    strides = (1,) + pool_strides + (1,)\n",
    "    assert len(strides) == 4\n",
    "    \n",
    "    # NOTE: https://www.tensorflow.org/api_docs/python/tf/nn/max_pool\n",
    "    x = tf.nn.max_pool(\n",
    "        x,\n",
    "        ksize=(1,) + pool_ksize + (1,),\n",
    "        strides=strides,\n",
    "        padding='SAME'\n",
    "    )\n",
    "    \n",
    "    return x\n",
    "\n",
    "\n",
    "\"\"\"\n",
    "DON'T MODIFY ANYTHING IN THIS CELL THAT IS BELOW THIS LINE\n",
    "\"\"\"\n",
    "tests.test_con_pool(conv2d_maxpool)"
   ]
  },
  {
   "cell_type": "markdown",
   "metadata": {
    "deletable": true,
    "editable": true
   },
   "source": [
    "### Flatten Layer\n",
    "Implement the `flatten` function to change the dimension of `x_tensor` from a 4-D tensor to a 2-D tensor.  The output should be the shape (*Batch Size*, *Flattened Image Size*). Shortcut option: you can use classes from the [TensorFlow Layers](https://www.tensorflow.org/api_docs/python/tf/layers) or [TensorFlow Layers (contrib)](https://www.tensorflow.org/api_guides/python/contrib.layers) packages for this layer. For more of a challenge, only use other TensorFlow packages."
   ]
  },
  {
   "cell_type": "code",
   "execution_count": 9,
   "metadata": {
    "collapsed": false,
    "deletable": true,
    "editable": true
   },
   "outputs": [
    {
     "name": "stdout",
     "output_type": "stream",
     "text": [
      "Tests Passed\n"
     ]
    }
   ],
   "source": [
    "def flatten(x_tensor):\n",
    "    \"\"\"\n",
    "    Flatten x_tensor to (Batch Size, Flattened Image Size)\n",
    "    : x_tensor: A tensor of size (Batch Size, ...), where ... are the image dimensions.\n",
    "    : return: A tensor of size (Batch Size, Flattened Image Size).\n",
    "    \"\"\"\n",
    "    # TODO: Implement Function\n",
    "    # NOTE: https://www.tensorflow.org/api_docs/python/tf/contrib/layers/flatten\n",
    "    return tf.contrib.layers.flatten(x_tensor)\n",
    "\n",
    "\n",
    "\"\"\"\n",
    "DON'T MODIFY ANYTHING IN THIS CELL THAT IS BELOW THIS LINE\n",
    "\"\"\"\n",
    "tests.test_flatten(flatten)"
   ]
  },
  {
   "cell_type": "markdown",
   "metadata": {
    "deletable": true,
    "editable": true
   },
   "source": [
    "### Fully-Connected Layer\n",
    "Implement the `fully_conn` function to apply a fully connected layer to `x_tensor` with the shape (*Batch Size*, *num_outputs*). Shortcut option: you can use classes from the [TensorFlow Layers](https://www.tensorflow.org/api_docs/python/tf/layers) or [TensorFlow Layers (contrib)](https://www.tensorflow.org/api_guides/python/contrib.layers) packages for this layer. For more of a challenge, only use other TensorFlow packages."
   ]
  },
  {
   "cell_type": "code",
   "execution_count": 10,
   "metadata": {
    "collapsed": false,
    "deletable": true,
    "editable": true
   },
   "outputs": [
    {
     "name": "stdout",
     "output_type": "stream",
     "text": [
      "Tests Passed\n"
     ]
    }
   ],
   "source": [
    "def fully_conn(x_tensor, num_outputs):\n",
    "    \"\"\"\n",
    "    Apply a fully connected layer to x_tensor using weight and bias\n",
    "    : x_tensor: A 2-D tensor where the first dimension is batch size.\n",
    "    : num_outputs: The number of output that the new tensor should be.\n",
    "    : return: A 2-D tensor where the second dimension is num_outputs.\n",
    "    \"\"\"\n",
    "    # TODO: Implement Function\n",
    "    return tf.contrib.layers.fully_connected(\n",
    "        x_tensor, num_outputs,\n",
    "        activation_fn=tf.nn.relu,\n",
    "        weights_initializer=tf.truncated_normal_initializer(mean=0.0, stddev=0.1),\n",
    "        biases_initializer=tf.zeros_initializer()\n",
    "    )\n",
    "\n",
    "\n",
    "\"\"\"\n",
    "DON'T MODIFY ANYTHING IN THIS CELL THAT IS BELOW THIS LINE\n",
    "\"\"\"\n",
    "tests.test_fully_conn(fully_conn)"
   ]
  },
  {
   "cell_type": "markdown",
   "metadata": {
    "deletable": true,
    "editable": true
   },
   "source": [
    "### Output Layer\n",
    "Implement the `output` function to apply a fully connected layer to `x_tensor` with the shape (*Batch Size*, *num_outputs*). Shortcut option: you can use classes from the [TensorFlow Layers](https://www.tensorflow.org/api_docs/python/tf/layers) or [TensorFlow Layers (contrib)](https://www.tensorflow.org/api_guides/python/contrib.layers) packages for this layer. For more of a challenge, only use other TensorFlow packages.\n",
    "\n",
    "**Note:** Activation, softmax, or cross entropy should **not** be applied to this."
   ]
  },
  {
   "cell_type": "code",
   "execution_count": 11,
   "metadata": {
    "collapsed": false,
    "deletable": true,
    "editable": true
   },
   "outputs": [
    {
     "name": "stdout",
     "output_type": "stream",
     "text": [
      "Tests Passed\n"
     ]
    }
   ],
   "source": [
    "def output(x_tensor, num_outputs):\n",
    "    \"\"\"\n",
    "    Apply a output layer to x_tensor using weight and bias\n",
    "    : x_tensor: A 2-D tensor where the first dimension is batch size.\n",
    "    : num_outputs: The number of output that the new tensor should be.\n",
    "    : return: A 2-D tensor where the second dimension is num_outputs.\n",
    "    \"\"\"\n",
    "    # TODO: Implement Function\n",
    "    return tf.contrib.layers.fully_connected(\n",
    "        x_tensor, num_outputs,\n",
    "        activation_fn=None,\n",
    "        weights_initializer=tf.truncated_normal_initializer(mean=0.0, stddev=0.1),\n",
    "        biases_initializer=tf.zeros_initializer()\n",
    "    )\n",
    "\n",
    "\"\"\"\n",
    "DON'T MODIFY ANYTHING IN THIS CELL THAT IS BELOW THIS LINE\n",
    "\"\"\"\n",
    "tests.test_output(output)"
   ]
  },
  {
   "cell_type": "markdown",
   "metadata": {
    "deletable": true,
    "editable": true
   },
   "source": [
    "### Create Convolutional Model\n",
    "Implement the function `conv_net` to create a convolutional neural network model. The function takes in a batch of images, `x`, and outputs logits.  Use the layers you created above to create this model:\n",
    "\n",
    "* Apply 1, 2, or 3 Convolution and Max Pool layers\n",
    "* Apply a Flatten Layer\n",
    "* Apply 1, 2, or 3 Fully Connected Layers\n",
    "* Apply an Output Layer\n",
    "* Return the output\n",
    "* Apply [TensorFlow's Dropout](https://www.tensorflow.org/api_docs/python/tf/nn/dropout) to one or more layers in the model using `keep_prob`. "
   ]
  },
  {
   "cell_type": "code",
   "execution_count": 12,
   "metadata": {
    "collapsed": false,
    "deletable": true,
    "editable": true
   },
   "outputs": [
    {
     "name": "stdout",
     "output_type": "stream",
     "text": [
      "Building convnet:\n",
      "+ convolutional max pool layer: {'conv_ksize': (4, 4), 'conv_strides': (1, 1), 'pool_ksize': (2, 2), 'pool_strides': (2, 2), 'conv_num_outputs': 16}\n",
      "+ convolutional max pool layer: {'conv_ksize': (4, 4), 'conv_strides': (1, 1), 'pool_ksize': (2, 2), 'pool_strides': (2, 2), 'conv_num_outputs': 32}\n",
      "+ convolutional max pool layer: {'conv_ksize': (4, 4), 'conv_strides': (1, 1), 'pool_ksize': (2, 2), 'pool_strides': (2, 2), 'conv_num_outputs': 64}\n",
      "+ flattened layer\n",
      "+ fully-connected layer with 512 outputs\n",
      "+ dropout layer with Tensor(\"keep_prob:0\", dtype=float32) keep probability\n",
      "+ fully-connected layer with 256 outputs\n",
      "+ dropout layer with Tensor(\"keep_prob:0\", dtype=float32) keep probability\n",
      "+ fully-connected layer with 128 outputs\n",
      "+ dropout layer with Tensor(\"keep_prob:0\", dtype=float32) keep probability\n",
      "+ output layer with 10 outputs\n",
      "Building convnet:\n",
      "+ convolutional max pool layer: {'conv_ksize': (4, 4), 'conv_strides': (1, 1), 'pool_ksize': (2, 2), 'pool_strides': (2, 2), 'conv_num_outputs': 16}\n",
      "+ convolutional max pool layer: {'conv_ksize': (4, 4), 'conv_strides': (1, 1), 'pool_ksize': (2, 2), 'pool_strides': (2, 2), 'conv_num_outputs': 32}\n",
      "+ convolutional max pool layer: {'conv_ksize': (4, 4), 'conv_strides': (1, 1), 'pool_ksize': (2, 2), 'pool_strides': (2, 2), 'conv_num_outputs': 64}\n",
      "+ flattened layer\n",
      "+ fully-connected layer with 512 outputs\n",
      "+ dropout layer with Tensor(\"Placeholder_1:0\", dtype=float32) keep probability\n",
      "+ fully-connected layer with 256 outputs\n",
      "+ dropout layer with Tensor(\"Placeholder_1:0\", dtype=float32) keep probability\n",
      "+ fully-connected layer with 128 outputs\n",
      "+ dropout layer with Tensor(\"Placeholder_1:0\", dtype=float32) keep probability\n",
      "+ output layer with 10 outputs\n",
      "Neural Network Built!\n"
     ]
    }
   ],
   "source": [
    "def conv_net(x, keep_prob):\n",
    "    \"\"\"\n",
    "    Create a convolutional neural network model\n",
    "    : x: Placeholder tensor that holds image data.\n",
    "    : keep_prob: Placeholder tensor that hold dropout keep probability.\n",
    "    : return: Tensor that represents logits\n",
    "    \"\"\"\n",
    "    print('Building convnet:')\n",
    "    # TODO: Apply 1, 2, or 3 Convolution and Max Pool layers\n",
    "    #       Play around with different number of outputs, kernel size and stride\n",
    "    # conv2d_maxpool(x_tensor, conv_num_outputs, conv_ksize, conv_strides, pool_ksize, pool_strides)\n",
    "    dim = max(x.get_shape().as_list()[1:])\n",
    "    defaults = {'conv_ksize': (4, 4), 'conv_strides': (1, 1), 'pool_ksize': (2, 2), 'pool_strides': (2, 2)}\n",
    "    for c in [\n",
    "        {**defaults, 'conv_num_outputs': int(dim/2)},\n",
    "        {**defaults, 'conv_num_outputs': int(dim)  },\n",
    "        {**defaults, 'conv_num_outputs': int(dim*2)},\n",
    "    ]:\n",
    "        print('+ convolutional max pool layer: {}'.format(c))\n",
    "        x = conv2d_maxpool(x, c['conv_num_outputs'], c['conv_ksize'], c['conv_strides'], c['pool_ksize'], c['pool_strides'])\n",
    "    \n",
    "\n",
    "    # TODO: Apply a Flatten Layer\n",
    "    # flatten(x_tensor)\n",
    "    print('+ flattened layer')\n",
    "    x = flatten(x)\n",
    "    \n",
    "    # TODO: Apply 1, 2, or 3 Fully Connected Layers\n",
    "    #       Play around with different number of outputs\n",
    "    # fully_conn(x_tensor, num_outputs)\n",
    "    for num_outputs in [\n",
    "        2**9,\n",
    "        2**8,\n",
    "        2**7\n",
    "    ]:\n",
    "        print('+ fully-connected layer with {} outputs'.format(num_outputs))\n",
    "        x = fully_conn(x, num_outputs)\n",
    "        \n",
    "        print('+ dropout layer with {} keep probability'.format(keep_prob))\n",
    "        x = tf.nn.dropout(x, keep_prob)\n",
    "    \n",
    "    # TODO: Apply an Output Layer\n",
    "    #       Set this to the number of classes\n",
    "    # output(x_tensor, num_outputs)\n",
    "    final_num_outputs = 10\n",
    "    print('+ output layer with {} outputs'.format(final_num_outputs))\n",
    "    x = output(x, final_num_outputs)\n",
    "    \n",
    "    # TODO: return output\n",
    "    return x\n",
    "\n",
    "\n",
    "\"\"\"\n",
    "DON'T MODIFY ANYTHING IN THIS CELL THAT IS BELOW THIS LINE\n",
    "\"\"\"\n",
    "\n",
    "##############################\n",
    "## Build the Neural Network ##\n",
    "##############################\n",
    "\n",
    "# Remove previous weights, bias, inputs, etc..\n",
    "tf.reset_default_graph()\n",
    "\n",
    "# Inputs\n",
    "x = neural_net_image_input((32, 32, 3))\n",
    "y = neural_net_label_input(10)\n",
    "keep_prob = neural_net_keep_prob_input()\n",
    "\n",
    "# Model\n",
    "logits = conv_net(x, keep_prob)\n",
    "\n",
    "# Name logits Tensor, so that is can be loaded from disk after training\n",
    "logits = tf.identity(logits, name='logits')\n",
    "\n",
    "# Loss and Optimizer\n",
    "cost = tf.reduce_mean(tf.nn.softmax_cross_entropy_with_logits(logits=logits, labels=y))\n",
    "optimizer = tf.train.AdamOptimizer().minimize(cost)\n",
    "\n",
    "# Accuracy\n",
    "correct_pred = tf.equal(tf.argmax(logits, 1), tf.argmax(y, 1))\n",
    "accuracy = tf.reduce_mean(tf.cast(correct_pred, tf.float32), name='accuracy')\n",
    "\n",
    "tests.test_conv_net(conv_net)"
   ]
  },
  {
   "cell_type": "markdown",
   "metadata": {
    "deletable": true,
    "editable": true
   },
   "source": [
    "## Train the Neural Network\n",
    "### Single Optimization\n",
    "Implement the function `train_neural_network` to do a single optimization.  The optimization should use `optimizer` to optimize in `session` with a `feed_dict` of the following:\n",
    "* `x` for image input\n",
    "* `y` for labels\n",
    "* `keep_prob` for keep probability for dropout\n",
    "\n",
    "This function will be called for each batch, so `tf.global_variables_initializer()` has already been called.\n",
    "\n",
    "Note: Nothing needs to be returned. This function is only optimizing the neural network."
   ]
  },
  {
   "cell_type": "code",
   "execution_count": 13,
   "metadata": {
    "collapsed": false,
    "deletable": true,
    "editable": true
   },
   "outputs": [
    {
     "name": "stdout",
     "output_type": "stream",
     "text": [
      "Tests Passed\n"
     ]
    }
   ],
   "source": [
    "def train_neural_network(session, optimizer, keep_probability, feature_batch, label_batch):\n",
    "    \"\"\"\n",
    "    Optimize the session on a batch of images and labels\n",
    "    : session: Current TensorFlow session\n",
    "    : optimizer: TensorFlow optimizer function\n",
    "    : keep_probability: keep probability\n",
    "    : feature_batch: Batch of Numpy image data\n",
    "    : label_batch: Batch of Numpy label data\n",
    "    \"\"\"\n",
    "    # TODO: Implement Function\n",
    "    return session.run(optimizer, feed_dict={\n",
    "        keep_prob: keep_probability,\n",
    "        x: feature_batch,\n",
    "        y: label_batch\n",
    "    })\n",
    "\n",
    "\"\"\"\n",
    "DON'T MODIFY ANYTHING IN THIS CELL THAT IS BELOW THIS LINE\n",
    "\"\"\"\n",
    "tests.test_train_nn(train_neural_network)"
   ]
  },
  {
   "cell_type": "markdown",
   "metadata": {
    "deletable": true,
    "editable": true
   },
   "source": [
    "### Show Stats\n",
    "Implement the function `print_stats` to print loss and validation accuracy.  Use the global variables `valid_features` and `valid_labels` to calculate validation accuracy.  Use a keep probability of `1.0` to calculate the loss and validation accuracy."
   ]
  },
  {
   "cell_type": "code",
   "execution_count": 14,
   "metadata": {
    "collapsed": false,
    "deletable": true,
    "editable": true
   },
   "outputs": [],
   "source": [
    "def print_stats(session, feature_batch, label_batch, cost, accuracy):\n",
    "    \"\"\"\n",
    "    Print information about loss and validation accuracy\n",
    "    : session: Current TensorFlow session\n",
    "    : feature_batch: Batch of Numpy image data\n",
    "    : label_batch: Batch of Numpy label data\n",
    "    : cost: TensorFlow cost function\n",
    "    : accuracy: TensorFlow accuracy function\n",
    "    \"\"\"\n",
    "    # TODO: Implement Function\n",
    "    global valid_features\n",
    "    global valid_labels\n",
    "    \n",
    "    loss_train = session.run(cost,     feed_dict={x: feature_batch,  y: label_batch,  keep_prob: 1.0})\n",
    "    loss_valid = session.run(cost,     feed_dict={x: valid_features, y: valid_labels, keep_prob: 1.0})\n",
    "    acc_valid  = session.run(accuracy, feed_dict={x: valid_features, y: valid_labels, keep_prob: 1.0})\n",
    "    \n",
    "    print('Training Loss: {:.4f}, Validation Loss: {:.4f}, Validation Accuracy: {:.4f}'.format(loss_train, loss_valid, acc_valid))"
   ]
  },
  {
   "cell_type": "markdown",
   "metadata": {
    "deletable": true,
    "editable": true
   },
   "source": [
    "### Hyperparameters\n",
    "Tune the following parameters:\n",
    "* Set `epochs` to the number of iterations until the network stops learning or start overfitting\n",
    "* Set `batch_size` to the highest number that your machine has memory for.  Most people set them to common sizes of memory:\n",
    " * 64\n",
    " * 128\n",
    " * 256\n",
    " * ...\n",
    "* Set `keep_probability` to the probability of keeping a node using dropout"
   ]
  },
  {
   "cell_type": "code",
   "execution_count": 15,
   "metadata": {
    "collapsed": true,
    "deletable": true,
    "editable": true
   },
   "outputs": [],
   "source": [
    "# TODO: Tune Parameters\n",
    "epochs = 20\n",
    "batch_size = 2**8\n",
    "keep_probability = 0.5"
   ]
  },
  {
   "cell_type": "markdown",
   "metadata": {
    "deletable": true,
    "editable": true
   },
   "source": [
    "### Train on a Single CIFAR-10 Batch\n",
    "Instead of training the neural network on all the CIFAR-10 batches of data, let's use a single batch. This should save time while you iterate on the model to get a better accuracy.  Once the final validation accuracy is 50% or greater, run the model on all the data in the next section."
   ]
  },
  {
   "cell_type": "code",
   "execution_count": 16,
   "metadata": {
    "collapsed": false,
    "deletable": true,
    "editable": true
   },
   "outputs": [
    {
     "name": "stdout",
     "output_type": "stream",
     "text": [
      "Checking the Training on a Single Batch...\n",
      "Epoch  1, CIFAR-10 Batch 1:  Training Loss: 2.2671, Validation Loss: 2.2571, Validation Accuracy: 0.1792\n",
      "Epoch  2, CIFAR-10 Batch 1:  Training Loss: 2.2000, Validation Loss: 2.0843, Validation Accuracy: 0.2420\n",
      "Epoch  3, CIFAR-10 Batch 1:  Training Loss: 2.1000, Validation Loss: 1.8972, Validation Accuracy: 0.3190\n",
      "Epoch  4, CIFAR-10 Batch 1:  Training Loss: 1.9578, Validation Loss: 1.7571, Validation Accuracy: 0.3614\n",
      "Epoch  5, CIFAR-10 Batch 1:  Training Loss: 1.7499, Validation Loss: 1.6968, Validation Accuracy: 0.3716\n",
      "Epoch  6, CIFAR-10 Batch 1:  Training Loss: 1.6030, Validation Loss: 1.6304, Validation Accuracy: 0.3904\n",
      "Epoch  7, CIFAR-10 Batch 1:  Training Loss: 1.4475, Validation Loss: 1.5683, Validation Accuracy: 0.4176\n",
      "Epoch  8, CIFAR-10 Batch 1:  Training Loss: 1.2748, Validation Loss: 1.5291, Validation Accuracy: 0.4324\n",
      "Epoch  9, CIFAR-10 Batch 1:  Training Loss: 1.1992, Validation Loss: 1.4781, Validation Accuracy: 0.4416\n",
      "Epoch 10, CIFAR-10 Batch 1:  Training Loss: 1.1451, Validation Loss: 1.4568, Validation Accuracy: 0.4668\n",
      "Epoch 11, CIFAR-10 Batch 1:  Training Loss: 0.9928, Validation Loss: 1.4271, Validation Accuracy: 0.4730\n",
      "Epoch 12, CIFAR-10 Batch 1:  Training Loss: 0.9022, Validation Loss: 1.3804, Validation Accuracy: 0.4970\n",
      "Epoch 13, CIFAR-10 Batch 1:  Training Loss: 0.8356, Validation Loss: 1.4510, Validation Accuracy: 0.4714\n",
      "Epoch 14, CIFAR-10 Batch 1:  Training Loss: 0.7296, Validation Loss: 1.3844, Validation Accuracy: 0.4914\n",
      "Epoch 15, CIFAR-10 Batch 1:  Training Loss: 0.7553, Validation Loss: 1.3774, Validation Accuracy: 0.4972\n",
      "Epoch 16, CIFAR-10 Batch 1:  Training Loss: 0.6168, Validation Loss: 1.3735, Validation Accuracy: 0.5034\n",
      "Epoch 17, CIFAR-10 Batch 1:  Training Loss: 0.5784, Validation Loss: 1.3919, Validation Accuracy: 0.5024\n",
      "Epoch 18, CIFAR-10 Batch 1:  Training Loss: 0.5734, Validation Loss: 1.4373, Validation Accuracy: 0.5002\n",
      "Epoch 19, CIFAR-10 Batch 1:  Training Loss: 0.4898, Validation Loss: 1.4158, Validation Accuracy: 0.5170\n",
      "Epoch 20, CIFAR-10 Batch 1:  Training Loss: 0.4226, Validation Loss: 1.3833, Validation Accuracy: 0.5166\n"
     ]
    }
   ],
   "source": [
    "\"\"\"\n",
    "DON'T MODIFY ANYTHING IN THIS CELL\n",
    "\"\"\"\n",
    "print('Checking the Training on a Single Batch...')\n",
    "with tf.Session() as sess:\n",
    "    # Initializing the variables\n",
    "    sess.run(tf.global_variables_initializer())\n",
    "    \n",
    "    # Training cycle\n",
    "    for epoch in range(epochs):\n",
    "        batch_i = 1\n",
    "        for batch_features, batch_labels in helper.load_preprocess_training_batch(batch_i, batch_size):\n",
    "            train_neural_network(sess, optimizer, keep_probability, batch_features, batch_labels)\n",
    "        print('Epoch {:>2}, CIFAR-10 Batch {}:  '.format(epoch + 1, batch_i), end='')\n",
    "        print_stats(sess, batch_features, batch_labels, cost, accuracy)"
   ]
  },
  {
   "cell_type": "markdown",
   "metadata": {
    "deletable": true,
    "editable": true
   },
   "source": [
    "### Fully Train the Model\n",
    "Now that you got a good accuracy with a single CIFAR-10 batch, try it with all five batches."
   ]
  },
  {
   "cell_type": "code",
   "execution_count": 17,
   "metadata": {
    "collapsed": false,
    "deletable": true,
    "editable": true
   },
   "outputs": [
    {
     "name": "stdout",
     "output_type": "stream",
     "text": [
      "Training...\n",
      "Epoch  1, CIFAR-10 Batch 1:  Training Loss: 2.2912, Validation Loss: 2.2793, Validation Accuracy: 0.2204\n",
      "Epoch  1, CIFAR-10 Batch 2:  Training Loss: 2.2018, Validation Loss: 2.1251, Validation Accuracy: 0.1870\n",
      "Epoch  1, CIFAR-10 Batch 3:  Training Loss: 1.8362, Validation Loss: 1.9860, Validation Accuracy: 0.2556\n",
      "Epoch  1, CIFAR-10 Batch 4:  Training Loss: 1.8718, Validation Loss: 1.8515, Validation Accuracy: 0.3204\n",
      "Epoch  1, CIFAR-10 Batch 5:  Training Loss: 1.7312, Validation Loss: 1.7081, Validation Accuracy: 0.3772\n",
      "Epoch  2, CIFAR-10 Batch 1:  Training Loss: 1.8514, Validation Loss: 1.6604, Validation Accuracy: 0.3816\n",
      "Epoch  2, CIFAR-10 Batch 2:  Training Loss: 1.7445, Validation Loss: 1.5551, Validation Accuracy: 0.4188\n",
      "Epoch  2, CIFAR-10 Batch 3:  Training Loss: 1.3383, Validation Loss: 1.5778, Validation Accuracy: 0.4110\n",
      "Epoch  2, CIFAR-10 Batch 4:  Training Loss: 1.5660, Validation Loss: 1.5411, Validation Accuracy: 0.4168\n",
      "Epoch  2, CIFAR-10 Batch 5:  Training Loss: 1.5223, Validation Loss: 1.4935, Validation Accuracy: 0.4382\n",
      "Epoch  3, CIFAR-10 Batch 1:  Training Loss: 1.5841, Validation Loss: 1.4152, Validation Accuracy: 0.4842\n",
      "Epoch  3, CIFAR-10 Batch 2:  Training Loss: 1.3766, Validation Loss: 1.3829, Validation Accuracy: 0.4856\n",
      "Epoch  3, CIFAR-10 Batch 3:  Training Loss: 1.1137, Validation Loss: 1.4152, Validation Accuracy: 0.4850\n",
      "Epoch  3, CIFAR-10 Batch 4:  Training Loss: 1.3503, Validation Loss: 1.3694, Validation Accuracy: 0.4914\n",
      "Epoch  3, CIFAR-10 Batch 5:  Training Loss: 1.2614, Validation Loss: 1.3216, Validation Accuracy: 0.5068\n",
      "Epoch  4, CIFAR-10 Batch 1:  Training Loss: 1.3040, Validation Loss: 1.3115, Validation Accuracy: 0.5126\n",
      "Epoch  4, CIFAR-10 Batch 2:  Training Loss: 1.1392, Validation Loss: 1.3183, Validation Accuracy: 0.4998\n",
      "Epoch  4, CIFAR-10 Batch 3:  Training Loss: 1.0438, Validation Loss: 1.2959, Validation Accuracy: 0.5186\n",
      "Epoch  4, CIFAR-10 Batch 4:  Training Loss: 1.1816, Validation Loss: 1.2422, Validation Accuracy: 0.5440\n",
      "Epoch  4, CIFAR-10 Batch 5:  Training Loss: 1.0542, Validation Loss: 1.2353, Validation Accuracy: 0.5362\n",
      "Epoch  5, CIFAR-10 Batch 1:  Training Loss: 1.0927, Validation Loss: 1.2225, Validation Accuracy: 0.5490\n",
      "Epoch  5, CIFAR-10 Batch 2:  Training Loss: 0.9051, Validation Loss: 1.1981, Validation Accuracy: 0.5534\n",
      "Epoch  5, CIFAR-10 Batch 3:  Training Loss: 0.8925, Validation Loss: 1.2354, Validation Accuracy: 0.5424\n",
      "Epoch  5, CIFAR-10 Batch 4:  Training Loss: 0.9923, Validation Loss: 1.2178, Validation Accuracy: 0.5542\n",
      "Epoch  5, CIFAR-10 Batch 5:  Training Loss: 0.9546, Validation Loss: 1.1667, Validation Accuracy: 0.5692\n",
      "Epoch  6, CIFAR-10 Batch 1:  Training Loss: 0.8766, Validation Loss: 1.1827, Validation Accuracy: 0.5666\n",
      "Epoch  6, CIFAR-10 Batch 2:  Training Loss: 0.7846, Validation Loss: 1.1781, Validation Accuracy: 0.5654\n",
      "Epoch  6, CIFAR-10 Batch 3:  Training Loss: 0.7353, Validation Loss: 1.1364, Validation Accuracy: 0.5864\n",
      "Epoch  6, CIFAR-10 Batch 4:  Training Loss: 0.8573, Validation Loss: 1.1356, Validation Accuracy: 0.5810\n",
      "Epoch  6, CIFAR-10 Batch 5:  Training Loss: 0.8179, Validation Loss: 1.1517, Validation Accuracy: 0.5648\n",
      "Epoch  7, CIFAR-10 Batch 1:  Training Loss: 0.8250, Validation Loss: 1.1566, Validation Accuracy: 0.5792\n",
      "Epoch  7, CIFAR-10 Batch 2:  Training Loss: 0.6546, Validation Loss: 1.1136, Validation Accuracy: 0.5956\n",
      "Epoch  7, CIFAR-10 Batch 3:  Training Loss: 0.6157, Validation Loss: 1.0856, Validation Accuracy: 0.6050\n",
      "Epoch  7, CIFAR-10 Batch 4:  Training Loss: 0.7527, Validation Loss: 1.1003, Validation Accuracy: 0.6094\n",
      "Epoch  7, CIFAR-10 Batch 5:  Training Loss: 0.6764, Validation Loss: 1.0880, Validation Accuracy: 0.6064\n",
      "Epoch  8, CIFAR-10 Batch 1:  Training Loss: 0.6939, Validation Loss: 1.1048, Validation Accuracy: 0.6104\n",
      "Epoch  8, CIFAR-10 Batch 2:  Training Loss: 0.5647, Validation Loss: 1.0536, Validation Accuracy: 0.6226\n",
      "Epoch  8, CIFAR-10 Batch 3:  Training Loss: 0.5251, Validation Loss: 1.1200, Validation Accuracy: 0.5922\n",
      "Epoch  8, CIFAR-10 Batch 4:  Training Loss: 0.6243, Validation Loss: 1.0721, Validation Accuracy: 0.6258\n",
      "Epoch  8, CIFAR-10 Batch 5:  Training Loss: 0.5456, Validation Loss: 1.0532, Validation Accuracy: 0.6224\n",
      "Epoch  9, CIFAR-10 Batch 1:  Training Loss: 0.5814, Validation Loss: 1.0299, Validation Accuracy: 0.6278\n",
      "Epoch  9, CIFAR-10 Batch 2:  Training Loss: 0.4903, Validation Loss: 1.0750, Validation Accuracy: 0.6208\n",
      "Epoch  9, CIFAR-10 Batch 3:  Training Loss: 0.4171, Validation Loss: 1.0873, Validation Accuracy: 0.6178\n",
      "Epoch  9, CIFAR-10 Batch 4:  Training Loss: 0.5083, Validation Loss: 1.0517, Validation Accuracy: 0.6318\n",
      "Epoch  9, CIFAR-10 Batch 5:  Training Loss: 0.4747, Validation Loss: 1.0641, Validation Accuracy: 0.6192\n",
      "Epoch 10, CIFAR-10 Batch 1:  Training Loss: 0.5350, Validation Loss: 1.0404, Validation Accuracy: 0.6392\n",
      "Epoch 10, CIFAR-10 Batch 2:  Training Loss: 0.4420, Validation Loss: 1.0492, Validation Accuracy: 0.6404\n",
      "Epoch 10, CIFAR-10 Batch 3:  Training Loss: 0.3786, Validation Loss: 1.0623, Validation Accuracy: 0.6306\n",
      "Epoch 10, CIFAR-10 Batch 4:  Training Loss: 0.4377, Validation Loss: 1.0304, Validation Accuracy: 0.6434\n",
      "Epoch 10, CIFAR-10 Batch 5:  Training Loss: 0.4077, Validation Loss: 1.0839, Validation Accuracy: 0.6194\n",
      "Epoch 11, CIFAR-10 Batch 1:  Training Loss: 0.4938, Validation Loss: 1.0202, Validation Accuracy: 0.6424\n",
      "Epoch 11, CIFAR-10 Batch 2:  Training Loss: 0.3977, Validation Loss: 1.0080, Validation Accuracy: 0.6450\n",
      "Epoch 11, CIFAR-10 Batch 3:  Training Loss: 0.2607, Validation Loss: 1.0675, Validation Accuracy: 0.6316\n",
      "Epoch 11, CIFAR-10 Batch 4:  Training Loss: 0.3953, Validation Loss: 1.0351, Validation Accuracy: 0.6400\n",
      "Epoch 11, CIFAR-10 Batch 5:  Training Loss: 0.2957, Validation Loss: 1.0295, Validation Accuracy: 0.6418\n",
      "Epoch 12, CIFAR-10 Batch 1:  Training Loss: 0.4300, Validation Loss: 1.0290, Validation Accuracy: 0.6448\n",
      "Epoch 12, CIFAR-10 Batch 2:  Training Loss: 0.3708, Validation Loss: 1.0428, Validation Accuracy: 0.6394\n",
      "Epoch 12, CIFAR-10 Batch 3:  Training Loss: 0.2645, Validation Loss: 1.0698, Validation Accuracy: 0.6362\n",
      "Epoch 12, CIFAR-10 Batch 4:  Training Loss: 0.3034, Validation Loss: 0.9933, Validation Accuracy: 0.6596\n",
      "Epoch 12, CIFAR-10 Batch 5:  Training Loss: 0.2445, Validation Loss: 1.0015, Validation Accuracy: 0.6544\n",
      "Epoch 13, CIFAR-10 Batch 1:  Training Loss: 0.3898, Validation Loss: 1.0265, Validation Accuracy: 0.6442\n",
      "Epoch 13, CIFAR-10 Batch 2:  Training Loss: 0.2975, Validation Loss: 1.0223, Validation Accuracy: 0.6528\n",
      "Epoch 13, CIFAR-10 Batch 3:  Training Loss: 0.2138, Validation Loss: 1.0417, Validation Accuracy: 0.6528\n",
      "Epoch 13, CIFAR-10 Batch 4:  Training Loss: 0.2949, Validation Loss: 0.9863, Validation Accuracy: 0.6570\n",
      "Epoch 13, CIFAR-10 Batch 5:  Training Loss: 0.2136, Validation Loss: 1.0067, Validation Accuracy: 0.6508\n",
      "Epoch 14, CIFAR-10 Batch 1:  Training Loss: 0.4171, Validation Loss: 1.0381, Validation Accuracy: 0.6418\n",
      "Epoch 14, CIFAR-10 Batch 2:  Training Loss: 0.2437, Validation Loss: 0.9804, Validation Accuracy: 0.6618\n",
      "Epoch 14, CIFAR-10 Batch 3:  Training Loss: 0.1479, Validation Loss: 1.0119, Validation Accuracy: 0.6562\n",
      "Epoch 14, CIFAR-10 Batch 4:  Training Loss: 0.2292, Validation Loss: 1.0032, Validation Accuracy: 0.6606\n",
      "Epoch 14, CIFAR-10 Batch 5:  Training Loss: 0.1690, Validation Loss: 0.9806, Validation Accuracy: 0.6658\n",
      "Epoch 15, CIFAR-10 Batch 1:  Training Loss: 0.3681, Validation Loss: 1.0330, Validation Accuracy: 0.6380\n",
      "Epoch 15, CIFAR-10 Batch 2:  Training Loss: 0.2346, Validation Loss: 0.9821, Validation Accuracy: 0.6632\n",
      "Epoch 15, CIFAR-10 Batch 3:  Training Loss: 0.1907, Validation Loss: 1.0526, Validation Accuracy: 0.6456\n",
      "Epoch 15, CIFAR-10 Batch 4:  Training Loss: 0.2117, Validation Loss: 1.0025, Validation Accuracy: 0.6658\n",
      "Epoch 15, CIFAR-10 Batch 5:  Training Loss: 0.1700, Validation Loss: 1.0133, Validation Accuracy: 0.6584\n",
      "Epoch 16, CIFAR-10 Batch 1:  Training Loss: 0.3224, Validation Loss: 1.0146, Validation Accuracy: 0.6636\n",
      "Epoch 16, CIFAR-10 Batch 2:  Training Loss: 0.2138, Validation Loss: 0.9762, Validation Accuracy: 0.6646\n",
      "Epoch 16, CIFAR-10 Batch 3:  Training Loss: 0.1117, Validation Loss: 1.0377, Validation Accuracy: 0.6614\n",
      "Epoch 16, CIFAR-10 Batch 4:  Training Loss: 0.1977, Validation Loss: 1.0309, Validation Accuracy: 0.6608\n",
      "Epoch 16, CIFAR-10 Batch 5:  Training Loss: 0.1349, Validation Loss: 1.0194, Validation Accuracy: 0.6610\n",
      "Epoch 17, CIFAR-10 Batch 1:  Training Loss: 0.2577, Validation Loss: 1.0257, Validation Accuracy: 0.6672\n",
      "Epoch 17, CIFAR-10 Batch 2:  Training Loss: 0.2268, Validation Loss: 1.0023, Validation Accuracy: 0.6588\n",
      "Epoch 17, CIFAR-10 Batch 3:  Training Loss: 0.0839, Validation Loss: 1.0353, Validation Accuracy: 0.6712\n",
      "Epoch 17, CIFAR-10 Batch 4:  Training Loss: 0.1671, Validation Loss: 0.9709, Validation Accuracy: 0.6842\n",
      "Epoch 17, CIFAR-10 Batch 5:  Training Loss: 0.1083, Validation Loss: 1.0186, Validation Accuracy: 0.6704\n",
      "Epoch 18, CIFAR-10 Batch 1:  Training Loss: 0.2333, Validation Loss: 1.0255, Validation Accuracy: 0.6628\n",
      "Epoch 18, CIFAR-10 Batch 2:  Training Loss: 0.1585, Validation Loss: 1.0086, Validation Accuracy: 0.6694\n",
      "Epoch 18, CIFAR-10 Batch 3:  Training Loss: 0.0737, Validation Loss: 1.0209, Validation Accuracy: 0.6680\n",
      "Epoch 18, CIFAR-10 Batch 4:  Training Loss: 0.1432, Validation Loss: 0.9862, Validation Accuracy: 0.6806\n",
      "Epoch 18, CIFAR-10 Batch 5:  Training Loss: 0.0947, Validation Loss: 1.0634, Validation Accuracy: 0.6566\n",
      "Epoch 19, CIFAR-10 Batch 1:  Training Loss: 0.2113, Validation Loss: 1.0315, Validation Accuracy: 0.6640\n",
      "Epoch 19, CIFAR-10 Batch 2:  Training Loss: 0.1526, Validation Loss: 1.0273, Validation Accuracy: 0.6638\n",
      "Epoch 19, CIFAR-10 Batch 3:  Training Loss: 0.0918, Validation Loss: 1.0817, Validation Accuracy: 0.6614\n",
      "Epoch 19, CIFAR-10 Batch 4:  Training Loss: 0.1167, Validation Loss: 1.0220, Validation Accuracy: 0.6742\n",
      "Epoch 19, CIFAR-10 Batch 5:  Training Loss: 0.0781, Validation Loss: 1.0808, Validation Accuracy: 0.6546\n",
      "Epoch 20, CIFAR-10 Batch 1:  Training Loss: 0.2022, Validation Loss: 1.1568, Validation Accuracy: 0.6454\n",
      "Epoch 20, CIFAR-10 Batch 2:  Training Loss: 0.1703, Validation Loss: 1.1183, Validation Accuracy: 0.6364\n",
      "Epoch 20, CIFAR-10 Batch 3:  Training Loss: 0.0580, Validation Loss: 1.0550, Validation Accuracy: 0.6648\n",
      "Epoch 20, CIFAR-10 Batch 4:  Training Loss: 0.1172, Validation Loss: 1.0486, Validation Accuracy: 0.6680\n",
      "Epoch 20, CIFAR-10 Batch 5:  Training Loss: 0.0743, Validation Loss: 1.0809, Validation Accuracy: 0.6656\n"
     ]
    }
   ],
   "source": [
    "\"\"\"\n",
    "DON'T MODIFY ANYTHING IN THIS CELL\n",
    "\"\"\"\n",
    "save_model_path = './image_classification'\n",
    "\n",
    "print('Training...')\n",
    "with tf.Session() as sess:\n",
    "    # Initializing the variables\n",
    "    sess.run(tf.global_variables_initializer())\n",
    "    \n",
    "    # Training cycle\n",
    "    for epoch in range(epochs):\n",
    "        # Loop over all batches\n",
    "        n_batches = 5\n",
    "        for batch_i in range(1, n_batches + 1):\n",
    "            for batch_features, batch_labels in helper.load_preprocess_training_batch(batch_i, batch_size):\n",
    "                train_neural_network(sess, optimizer, keep_probability, batch_features, batch_labels)\n",
    "            print('Epoch {:>2}, CIFAR-10 Batch {}:  '.format(epoch + 1, batch_i), end='')\n",
    "            print_stats(sess, batch_features, batch_labels, cost, accuracy)\n",
    "            \n",
    "    # Save Model\n",
    "    saver = tf.train.Saver()\n",
    "    save_path = saver.save(sess, save_model_path)"
   ]
  },
  {
   "cell_type": "markdown",
   "metadata": {
    "deletable": true,
    "editable": true
   },
   "source": [
    "# Checkpoint\n",
    "The model has been saved to disk.\n",
    "## Test Model\n",
    "Test your model against the test dataset.  This will be your final accuracy. You should have an accuracy greater than 50%. If you don't, keep tweaking the model architecture and parameters."
   ]
  },
  {
   "cell_type": "code",
   "execution_count": 18,
   "metadata": {
    "collapsed": false,
    "deletable": true,
    "editable": true
   },
   "outputs": [
    {
     "name": "stdout",
     "output_type": "stream",
     "text": [
      "INFO:tensorflow:Restoring parameters from ./image_classification\n",
      "Testing Accuracy: 0.6642578125\n",
      "\n"
     ]
    },
    {
     "data": {
      "image/png": "[encoded data removed]",
      "text/plain": [
       "<matplotlib.figure.Figure at 0x7f11c81f9b38>"
      ]
     },
     "metadata": {
      "image/png": {
       "height": 319,
       "width": 355
      }
     },
     "output_type": "display_data"
    }
   ],
   "source": [
    "\"\"\"\n",
    "DON'T MODIFY ANYTHING IN THIS CELL\n",
    "\"\"\"\n",
    "%matplotlib inline\n",
    "%config InlineBackend.figure_format = 'retina'\n",
    "\n",
    "import tensorflow as tf\n",
    "import pickle\n",
    "import helper\n",
    "import random\n",
    "\n",
    "# Set batch size if not already set\n",
    "try:\n",
    "    if batch_size:\n",
    "        pass\n",
    "except NameError:\n",
    "    batch_size = 64\n",
    "\n",
    "save_model_path = './image_classification'\n",
    "n_samples = 4\n",
    "top_n_predictions = 3\n",
    "\n",
    "def test_model():\n",
    "    \"\"\"\n",
    "    Test the saved model against the test dataset\n",
    "    \"\"\"\n",
    "\n",
    "    test_features, test_labels = pickle.load(open('preprocess_test.p', mode='rb'))\n",
    "    loaded_graph = tf.Graph()\n",
    "\n",
    "    with tf.Session(graph=loaded_graph) as sess:\n",
    "        # Load model\n",
    "        loader = tf.train.import_meta_graph(save_model_path + '.meta')\n",
    "        loader.restore(sess, save_model_path)\n",
    "\n",
    "        # Get Tensors from loaded model\n",
    "        loaded_x = loaded_graph.get_tensor_by_name('x:0')\n",
    "        loaded_y = loaded_graph.get_tensor_by_name('y:0')\n",
    "        loaded_keep_prob = loaded_graph.get_tensor_by_name('keep_prob:0')\n",
    "        loaded_logits = loaded_graph.get_tensor_by_name('logits:0')\n",
    "        loaded_acc = loaded_graph.get_tensor_by_name('accuracy:0')\n",
    "        \n",
    "        # Get accuracy in batches for memory limitations\n",
    "        test_batch_acc_total = 0\n",
    "        test_batch_count = 0\n",
    "        \n",
    "        for test_feature_batch, test_label_batch in helper.batch_features_labels(test_features, test_labels, batch_size):\n",
    "            test_batch_acc_total += sess.run(\n",
    "                loaded_acc,\n",
    "                feed_dict={loaded_x: test_feature_batch, loaded_y: test_label_batch, loaded_keep_prob: 1.0})\n",
    "            test_batch_count += 1\n",
    "\n",
    "        print('Testing Accuracy: {}\\n'.format(test_batch_acc_total/test_batch_count))\n",
    "\n",
    "        # Print Random Samples\n",
    "        random_test_features, random_test_labels = tuple(zip(*random.sample(list(zip(test_features, test_labels)), n_samples)))\n",
    "        random_test_predictions = sess.run(\n",
    "            tf.nn.top_k(tf.nn.softmax(loaded_logits), top_n_predictions),\n",
    "            feed_dict={loaded_x: random_test_features, loaded_y: random_test_labels, loaded_keep_prob: 1.0})\n",
    "        helper.display_image_predictions(random_test_features, random_test_labels, random_test_predictions)\n",
    "\n",
    "\n",
    "test_model()"
   ]
  },
  {
   "cell_type": "markdown",
   "metadata": {
    "deletable": true,
    "editable": true
   },
   "source": [
    "## Why 50-80% Accuracy?\n",
    "You might be wondering why you can't get an accuracy any higher. First things first, 50% isn't bad for a simple CNN.  Pure guessing would get you 10% accuracy. However, you might notice people are getting scores [well above 80%](http://rodrigob.github.io/are_we_there_yet/build/classification_datasets_results.html#43494641522d3130).  That's because we haven't taught you all there is to know about neural networks. We still need to cover a few more techniques.\n",
    "## Submitting This Project\n",
    "When submitting this project, make sure to run all the cells before saving the notebook.  Save the notebook file as \"dlnd_image_classification.ipynb\" and save it as a HTML file under \"File\" -> \"Download as\".  Include the \"helper.py\" and \"problem_unittests.py\" files in your submission."
   ]
  }
 ],
 "metadata": {
  "kernelspec": {
   "display_name": "Python 3",
   "language": "python",
   "name": "python3"
  },
  "language_info": {
   "codemirror_mode": {
    "name": "ipython",
    "version": 3
   },
   "file_extension": ".py",
   "mimetype": "text/x-python",
   "name": "python",
   "nbconvert_exporter": "python",
   "pygments_lexer": "ipython3",
   "version": "3.6.1"
  }
 },
 "nbformat": 4,
 "nbformat_minor": 0
}
